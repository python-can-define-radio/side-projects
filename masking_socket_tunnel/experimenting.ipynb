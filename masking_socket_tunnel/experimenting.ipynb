{
 "cells": [
  {
   "cell_type": "code",
   "execution_count": null,
   "id": "471014c2-4240-4898-9098-bae24b85e648",
   "metadata": {},
   "outputs": [],
   "source": [
    "import tunnel1.sharedfuncs\n",
    "from importlib import reload\n",
    "reload(tunnel1.sharedfuncs)\n",
    "from tunnel1.sharedfuncs import (\n",
    "    masking_message_handler,\n",
    "    launch_server,\n",
    "    handle_client,\n",
    "    connect_tx_rx_close,\n",
    ")\n",
    "\n",
    "launch_server(5000, masking_message_handler, 1.5, \"10.50.150.154\", 5001)"
   ]
  },
  {
   "cell_type": "code",
   "execution_count": 5,
   "id": "d6b99ab7-8b2e-44f2-acd8-5ff13b34004a",
   "metadata": {},
   "outputs": [],
   "source": [
    "import random\n",
    "\n",
    "\n",
    "class fakecon:\n",
    "    def recv(self, pretendnumbytestorec):\n",
    "        if random.randint(1, 10) == 1:\n",
    "            return b\"hello\"\n",
    "        else:\n",
    "            raise BlockingIOError()\n",
    "    def settimeout(self, value):\n",
    "        \"\"\"dummy func\"\"\"\n",
    "        ...\n",
    "    def sendall(self, value):\n",
    "        print(f\"pretending to send {value}\")\n",
    "    def close(self):\n",
    "        \"\"\"dummy func\"\"\"\n",
    "        ..."
   ]
  },
  {
   "cell_type": "code",
   "execution_count": 6,
   "id": "f860bce2-dae9-41e3-ac92-f2a249646b65",
   "metadata": {},
   "outputs": [],
   "source": [
    "conn = fakecon()"
   ]
  }
 ],
 "metadata": {
  "kernelspec": {
   "display_name": "Python 3 (ipykernel)",
   "language": "python",
   "name": "python3"
  },
  "language_info": {
   "codemirror_mode": {
    "name": "ipython",
    "version": 3
   },
   "file_extension": ".py",
   "mimetype": "text/x-python",
   "name": "python",
   "nbconvert_exporter": "python",
   "pygments_lexer": "ipython3",
   "version": "3.13.3"
  }
 },
 "nbformat": 4,
 "nbformat_minor": 5
}
